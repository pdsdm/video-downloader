{
 "cells": [
  {
   "cell_type": "markdown",
   "metadata": {},
   "source": [
    "# Youtube video donwloader\n",
    "Par descargar videos de youtube pesados\n",
    "\n",
    "\n"
   ]
  },
  {
   "cell_type": "code",
   "execution_count": 12,
   "metadata": {},
   "outputs": [],
   "source": [
    "pip install pytube"
   ]
  },
  {
   "cell_type": "code",
   "execution_count": 13,
   "metadata": {},
   "outputs": [
    {
     "name": "stderr",
     "output_type": "stream",
     "text": [
      "/Users/pepmoyanofont/Library/Python/3.9/lib/python/site-packages/urllib3/__init__.py:35: NotOpenSSLWarning: urllib3 v2 only supports OpenSSL 1.1.1+, currently the 'ssl' module is compiled with 'LibreSSL 2.8.3'. See: https://github.com/urllib3/urllib3/issues/3020\n",
      "  warnings.warn(\n"
     ]
    },
    {
     "name": "stdout",
     "output_type": "stream",
     "text": [
      "[youtube] Extracting URL: https://youtu.be/pkYVOmU3MgA?si=qLnzX93Hp6SJZWiO\n",
      "[youtube] pkYVOmU3MgA: Downloading webpage\n",
      "[youtube] pkYVOmU3MgA: Downloading ios player API JSON\n",
      "[youtube] pkYVOmU3MgA: Downloading mweb player API JSON\n",
      "[youtube] pkYVOmU3MgA: Downloading player a5032d18\n",
      "[youtube] pkYVOmU3MgA: Downloading m3u8 information\n",
      "[info] pkYVOmU3MgA: Downloading 1 format(s): 399+251\n"
     ]
    },
    {
     "name": "stderr",
     "output_type": "stream",
     "text": [
      "WARNING: You have requested merging of multiple formats but ffmpeg is not installed. The formats won't be merged\n"
     ]
    },
    {
     "name": "stdout",
     "output_type": "stream",
     "text": [
      "[download] Destination: ./video_hd_1080.mp4.f399.mp4\n",
      "[download] 100% of    1.65GiB in 00:03:20 at 8.41MiB/s      \n",
      "[download] Destination: ./video_hd_1080.mp4.f251.webm\n",
      "[download] 100% of  587.62MiB in 00:01:48 at 5.40MiB/s     \n",
      "Descarga completa. El video se guardó como './video_hd_1080.mp4'.\n"
     ]
    }
   ],
   "source": [
    "import os\n",
    "\n",
    "# URL del video\n",
    "video_url = \"https://youtu.be/pkYVOmU3MgA?si=qLnzX93Hp6SJZWiO\"\n",
    "output_path = \"./video_hd_1080.mp4\"\n",
    "\n",
    "try:\n",
    "    # Descargar video en 1080p con audio usando yt-dlp\n",
    "    os.system(f'yt-dlp -f \"bestvideo[height<=1080]+bestaudio/best[height<=1080]\" -o \"{output_path}\" {video_url}')\n",
    "    print(f\"Descarga completa. El video se guardó como '{output_path}'.\")\n",
    "except Exception as e:\n",
    "    print(\"Ocurrió un error:\", e)"
   ]
  },
  {
   "cell_type": "markdown",
   "metadata": {},
   "source": [
    "## Luego podemos ejecutar esto en la terminal"
   ]
  },
  {
   "cell_type": "code",
   "execution_count": null,
   "metadata": {
    "vscode": {
     "languageId": "bat"
    }
   },
   "outputs": [],
   "source": [
    "ffmpeg -i FreeCodeCampPython.mp4 -i Freecodecampvid.webm -c:v copy -c:a aac -map 0:v -map 1:a output.mp4"
   ]
  }
 ],
 "metadata": {
  "kernelspec": {
   "display_name": "Python 3",
   "language": "python",
   "name": "python3"
  },
  "language_info": {
   "codemirror_mode": {
    "name": "ipython",
    "version": 3
   },
   "file_extension": ".py",
   "mimetype": "text/x-python",
   "name": "python",
   "nbconvert_exporter": "python",
   "pygments_lexer": "ipython3",
   "version": "3.9.6"
  }
 },
 "nbformat": 4,
 "nbformat_minor": 2
}
